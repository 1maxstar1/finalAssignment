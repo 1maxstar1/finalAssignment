{
 "cells": [
  {
   "cell_type": "markdown",
   "id": "d72a9dd8-bc1d-40f3-9f6d-100014455502",
   "metadata": {
    "tags": []
   },
   "source": [
    "# Data Science Tools and Ecosystem"
   ]
  },
  {
   "cell_type": "markdown",
   "id": "a92af6af-deb6-4c24-8f4e-b40ee85353d6",
   "metadata": {},
   "source": [
    "In this notebook, Data Science Tools and Ecosystem are summarized."
   ]
  },
  {
   "cell_type": "markdown",
   "id": "50c5f820-32a6-4e98-980c-384a29301aa4",
   "metadata": {
    "tags": []
   },
   "source": [
    "Some of the popular languages that Data Scientists use are:\n",
    "1. Phython\n",
    "2. C++\n",
    "3. Swift\n",
    "4. SQL\n",
    "\n"
   ]
  },
  {
   "cell_type": "markdown",
   "id": "15da8b96-31c5-4eca-b59b-963eda6986ed",
   "metadata": {
    "tags": []
   },
   "source": [
    "Some of the commonly used libraries used by Data Scientists include:\n",
    "1. NumPy\n",
    "2. Keras\n",
    "3. Pandas\n",
    "4. PyTorch\n",
    "5. SciPy\n",
    "6. Scikit-Learn\n",
    "7. TensorFlow\n",
    "8. Matplotlib\n"
   ]
  },
  {
   "cell_type": "markdown",
   "id": "78cc75be-bae9-4fe3-9cd6-a6d41bb4f662",
   "metadata": {
    "tags": []
   },
   "source": [
    "|Data Science Tools|\n",
    "|---|\n",
    "|TensorFlow|\n",
    "|SAS|\n",
    "|Tableau|"
   ]
  },
  {
   "cell_type": "markdown",
   "id": "bb7f0125-b0db-4888-bb90-ad34d5e65e77",
   "metadata": {},
   "source": [
    "### Below are a few examples of evaluating arithmetic expressions in Python"
   ]
  },
  {
   "cell_type": "code",
   "execution_count": 6,
   "id": "37d6bf13-ed7e-46b0-8c42-5907cfeea4ea",
   "metadata": {
    "tags": []
   },
   "outputs": [
    {
     "data": {
      "text/plain": [
       "17"
      ]
     },
     "execution_count": 6,
     "metadata": {},
     "output_type": "execute_result"
    }
   ],
   "source": [
    "# This a simple arithmetic expression to mutiply then add integers\n",
    "(3*4)+5\n"
   ]
  },
  {
   "cell_type": "code",
   "execution_count": 7,
   "id": "3f13781e-09c5-495b-afa2-6242e75fdfe2",
   "metadata": {
    "tags": []
   },
   "outputs": [
    {
     "data": {
      "text/plain": [
       "3.3333333333333335"
      ]
     },
     "execution_count": 7,
     "metadata": {},
     "output_type": "execute_result"
    }
   ],
   "source": [
    "# This will convert 200 minutes to hours by diving by 60.\n",
    "200/60\n"
   ]
  },
  {
   "cell_type": "markdown",
   "id": "f37a231e-2a44-458a-8f8d-8d1f07f496e0",
   "metadata": {
    "tags": []
   },
   "source": [
    "__Objective__\n",
    "* List popular languages for Data Science\n",
    "* List of Well known Data Science Tools\n",
    "* List popular libraries for Data Science\n",
    "* How to Provide comments in the cell\n",
    "\n"
   ]
  },
  {
   "cell_type": "markdown",
   "id": "9c1a7fd4-74c9-47d9-84c4-6cddf17f5e6f",
   "metadata": {},
   "source": [
    "## Author\n",
    "Ayubkhon Anvarov "
   ]
  },
  {
   "cell_type": "code",
   "execution_count": null,
   "id": "60f67a9d-f8c7-48ea-8ac9-78d72ded67d3",
   "metadata": {},
   "outputs": [],
   "source": []
  }
 ],
 "metadata": {
  "kernelspec": {
   "display_name": "Python 3 (ipykernel)",
   "language": "python",
   "name": "python3"
  },
  "language_info": {
   "codemirror_mode": {
    "name": "ipython",
    "version": 3
   },
   "file_extension": ".py",
   "mimetype": "text/x-python",
   "name": "python",
   "nbconvert_exporter": "python",
   "pygments_lexer": "ipython3",
   "version": "3.11.5"
  }
 },
 "nbformat": 4,
 "nbformat_minor": 5
}
